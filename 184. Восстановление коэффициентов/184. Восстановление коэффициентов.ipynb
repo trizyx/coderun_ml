{
  "nbformat": 4,
  "nbformat_minor": 0,
  "metadata": {
    "colab": {
      "provenance": []
    },
    "kernelspec": {
      "name": "python3",
      "display_name": "Python 3"
    },
    "language_info": {
      "name": "python"
    }
  },
  "cells": [
    {
      "cell_type": "code",
      "source": [
        "import pandas as pd\n",
        "import numpy as np\n",
        "from scipy.optimize import curve_fit\n",
        "from sklearn.metrics import mean_squared_error\n",
        "df = pd.read_csv('data.csv', header=None)\n",
        "df = df.sort_values(0)\n",
        "def f(x,a,b,c):\n",
        "    return (a*np.sin(x) + b*np.log(x))**2+c*x**2\n",
        "(a, b, c),_ = curve_fit(f, df[0], df[1])\n",
        "print(round(a, 2), round(b, 2), round(c, 2))"
      ],
      "metadata": {
        "colab": {
          "base_uri": "https://localhost:8080/"
        },
        "id": "97qrz3XlLpLm",
        "outputId": "6c33657f-9eb8-49d4-dca4-c8e4405aed60"
      },
      "execution_count": 14,
      "outputs": [
        {
          "output_type": "stream",
          "name": "stdout",
          "text": [
            "3.14 2.72 4.0\n"
          ]
        }
      ]
    }
  ]
}